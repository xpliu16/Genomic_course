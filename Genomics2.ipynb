{
 "cells": [
  {
   "cell_type": "code",
   "execution_count": 24,
   "id": "73d1e5c5",
   "metadata": {},
   "outputs": [],
   "source": [
    "from Bio import SeqIO\n",
    "f = open('dna.example.fasta')\n",
    "sequences = SeqIO.parse(f,'fasta')"
   ]
  },
  {
   "cell_type": "markdown",
   "id": "95ebf2c1",
   "metadata": {},
   "source": [
    "### Part 1\n",
    "How many records are in the file? A record in a FASTA file is defined as a single-line header, followed by lines of sequence data. The header line is distinguished from the sequence data by a greater-than (\">\") symbol in the first column. The word following the \">\" symbol is the identifier of the sequence, and the rest of the line is an optional description of the entry. There should be no space between the \">\" and the first letter of the identifier. \n",
    "\n",
    "What are the lengths of the sequences in the file? What is the longest sequence and what is the shortest sequence? Is there more than one longest or shortest sequence? What are their identifiers? "
   ]
  },
  {
   "cell_type": "code",
   "execution_count": 25,
   "id": "86399eec",
   "metadata": {},
   "outputs": [
    {
     "name": "stdout",
     "output_type": "stream",
     "text": [
      "[990, 724, 3080, 2863, 3832, 4805, 1663, 512, 691, 3072, 1801, 3603, 2478, 1608, 4745, 1810, 3424, 1451, 3276, 2124, 1712, 1325, 1189, 555, 2449]\n",
      "Minimum length 512\n",
      "Maximum length 4805\n",
      "Minimum length sequences: ['gi|142022655|gb|EQ086233.1|521']\n",
      "Maximum length sequences: ['gi|142022655|gb|EQ086233.1|323']\n"
     ]
    }
   ],
   "source": [
    "i = 0\n",
    "seqlen = []\n",
    "identifier = []\n",
    "\n",
    "for fasta in sequences:\n",
    "    seqlen.append(len(str(fasta.seq)))\n",
    "    identifier.append(fasta.id)\n",
    "    i += 1\n",
    "\n",
    "nseqs = i\n",
    "minlen = min(seqlen)\n",
    "maxlen = max(seqlen)\n",
    "\n",
    "print(seqlen)\n",
    "print('Minimum length',minlen)\n",
    "print('Maximum length',maxlen)\n",
    "\n",
    "minlen_inds = [i for i in range(nseqs) if seqlen[i]==minlen]\n",
    "minlen_ids = [identifier[minlen_inds[j]] for j in range(len(minlen_inds))]\n",
    "print(\"Minimum length sequences:\", minlen_ids)\n",
    "\n",
    "maxlen_inds = [i for i in range(nseqs) if seqlen[i]==maxlen]\n",
    "maxlen_ids = [identifier[maxlen_inds[j]] for j in range(len(maxlen_inds))]\n",
    "print(\"Maximum length sequences:\", maxlen_ids)\n",
    "\n",
    "#for fasta in sequences:\n",
    "#    if (len(str(fasta.seq)) == minlen):\n",
    "#        print('Minimum length sequence:', fasta.id)\n",
    "#    elif (len(str(fasta.seq)) == maxlen):\n",
    "#        print('Maximum length sequence:', fasta.id)\n",
    "\n",
    "f.close()"
   ]
  },
  {
   "cell_type": "code",
   "execution_count": 32,
   "id": "1c83f466",
   "metadata": {},
   "outputs": [
    {
     "name": "stdout",
     "output_type": "stream",
     "text": [
      "gi|142022655|gb|EQ086233.1|43\n",
      "gi|142022655|gb|EQ086233.1|160\n",
      "gi|142022655|gb|EQ086233.1|41\n",
      "gi|142022655|gb|EQ086233.1|221\n",
      "gi|142022655|gb|EQ086233.1|294\n",
      "gi|142022655|gb|EQ086233.1|323\n",
      "gi|142022655|gb|EQ086233.1|564\n",
      "gi|142022655|gb|EQ086233.1|521\n",
      "gi|142022655|gb|EQ086233.1|455\n",
      "gi|142022655|gb|EQ086233.1|229\n",
      "gi|142022655|gb|EQ086233.1|422\n",
      "gi|142022655|gb|EQ086233.1|384\n",
      "gi|142022655|gb|EQ086233.1|280\n",
      "gi|142022655|gb|EQ086233.1|158\n",
      "gi|142022655|gb|EQ086233.1|59\n",
      "gi|142022655|gb|EQ086233.1|319\n",
      "gi|142022655|gb|EQ086233.1|438\n",
      "gi|142022655|gb|EQ086233.1|210\n",
      "gi|142022655|gb|EQ086233.1|237\n",
      "gi|142022655|gb|EQ086233.1|507\n",
      "gi|142022655|gb|EQ086233.1|350\n",
      "gi|142022655|gb|EQ086233.1|245\n",
      "gi|142022655|gb|EQ086233.1|279\n",
      "gi|142022655|gb|EQ086233.1|378\n",
      "gi|142022655|gb|EQ086233.1|101\n"
     ]
    }
   ],
   "source": [
    "for id in identifier:\n",
    "    print(id)"
   ]
  },
  {
   "cell_type": "markdown",
   "id": "3d5ca873",
   "metadata": {},
   "source": [
    "### Part 2\n",
    "Given an input reading frame on the forward strand (1, 2, or 3) your program should be able to identify all ORFs present in each sequence of the FASTA file, and answer the following questions: what is the length of the longest ORF in the file? What is the identifier of the sequence containing the longest ORF? For a given sequence identifier, what is the longest ORF contained in the sequence represented by that identifier? What is the starting position of the longest ORF in the sequence that contains it? The position should indicate the character number in the sequence."
   ]
  },
  {
   "cell_type": "code",
   "execution_count": 33,
   "id": "3e20fad9",
   "metadata": {},
   "outputs": [],
   "source": [
    "with open('dna.example.fasta') as f:\n",
    "    seq_dict = SeqIO.to_dict(SeqIO.parse(f,'fasta'))\n",
    "# with open automatically closes the file"
   ]
  },
  {
   "cell_type": "code",
   "execution_count": 28,
   "id": "c1dbb07c",
   "metadata": {},
   "outputs": [
    {
     "name": "stdout",
     "output_type": "stream",
     "text": [
      "Max lengths per frame:  [(213, 367), (39, 416), (186, 444)]\n",
      "Max lengths per frame:  [(309, 136), (363, 107), (165, 75)]\n",
      "Max lengths per frame:  [(306, 559), (762, 2009), (918, 1194)]\n",
      "Max lengths per frame:  [(264, 1246), (594, 1772), (324, 2388)]\n",
      "Max lengths per frame:  [(420, 2422), (690, 2099), (1608, 141)]\n",
      "Max lengths per frame:  [(1686, 2824), (1371, 65), (1596, 1476)]\n",
      "Max lengths per frame:  [(282, 724), (None, None), (507, 825)]\n",
      "Max lengths per frame:  [(None, None), (None, None), (159, 126)]\n",
      "Max lengths per frame:  [(39, 241), (552, 86), (54, 153)]\n",
      "Max lengths per frame:  [(726, 1960), (1311, 125), (306, 804)]\n",
      "Max lengths per frame:  [(84, 1066), (159, 1112), (639, 216)]\n",
      "Max lengths per frame:  [(585, 2137), (489, 1154), (720, 1347)]\n",
      "Max lengths per frame:  [(267, 1177), (291, 1427), (204, 2007)]\n",
      "Max lengths per frame:  [(129, 700), (486, 1040), (1218, 150)]\n",
      "Max lengths per frame:  [(1107, 3592), (951, 3605), (942, 972)]\n",
      "Max lengths per frame:  [(156, 481), (324, 971), (537, 219)]\n",
      "Max lengths per frame:  [(219, 3127), (300, 1739), (477, 987)]\n",
      "Max lengths per frame:  [(411, 478), (564, 410), (126, 360)]\n",
      "Max lengths per frame:  [(174, 1027), (219, 794), (186, 2133)]\n",
      "Max lengths per frame:  [(270, 1738), (723, 563), (741, 930)]\n",
      "Max lengths per frame:  [(171, 1243), (678, 365), (420, 861)]\n",
      "Max lengths per frame:  [(None, None), (477, 308), (636, 606)]\n",
      "Max lengths per frame:  [(None, None), (153, 413), (None, None)]\n",
      "Max lengths per frame:  [(111, 286), (534, 2), (144, 150)]\n",
      "Max lengths per frame:  [(639, 1633), (567, 1868), (453, 870)]\n",
      "Sequence with longest ORF:  gi|142022655|gb|EQ086233.1|323\n",
      "Starting position of longest ORF:  2824\n",
      "Nucleotide length of longest ORF:  1686\n"
     ]
    }
   ],
   "source": [
    "def orf(seq, start):\n",
    "    # Look for starts\n",
    "    orf_starts, orf_stops, orf_lens = [], [], []\n",
    "    stop_codons = ['TAA', 'TAG', 'TGA']\n",
    "    for ind in range(start,len(seq),3): \n",
    "        if (seq[ind:ind+3]=='ATG'):\n",
    "            orf_starts.append(ind)\n",
    "        \n",
    "    for ind2 in range(start+3,len(seq),3):   \n",
    "        # for more efficiency can check if there is\n",
    "        # at least one orf_start and search starting there\n",
    "        if (seq[ind2:ind2+3] in stop_codons):\n",
    "            orf_stops.append(ind2)   # start of first nucleotide of last codon\n",
    "            \n",
    "    #print(\"Starts: \", orf_starts)\n",
    "    #print(\"Stops: \", orf_stops)\n",
    "    \n",
    "    orf_start_pos = []\n",
    "    for i in range(len(orf_starts)):    \n",
    "        orf_next_stops = [el for el in orf_stops if el > orf_starts[i]]\n",
    "        if len(orf_next_stops) > 0:\n",
    "            orf_lens.append(orf_next_stops[0]+2 - orf_starts[i] + 1)\n",
    "            orf_start_pos.append(orf_starts[i]+1)   # e.g., index 0 is position 1\n",
    "            #print(f'Has ORF at ind {orf_starts[i]} through {orf_next_stops[0]+2}')\n",
    "            #print('Length: ', orf_lens[-1])\n",
    "            #print(seq[orf_starts[i]:orf_starts[i]+3])   # Should be ATG\n",
    "            #print(seq[orf_next_stops[0]:orf_next_stops[0]+3])     # Should be a stop codon\n",
    "    \n",
    "    if len(orf_lens)==0:\n",
    "        return None, None\n",
    "    else:\n",
    "        maxlen = max(orf_lens)\n",
    "        return maxlen, orf_start_pos[orf_lens.index(maxlen)]\n",
    "        # Note does not deal with ties\n",
    "    \n",
    "maxlens = {}\n",
    "for key,value in seq_dict.items():\n",
    "    max_len_start = [orf(value.seq,start) for start in range(3)]\n",
    "    # List of tuples\n",
    "    print('Max lengths per frame: ', max_len_start)\n",
    "    lens_not_none = [i for i in max_len_start if i != (None, None)]\n",
    "    if len(lens_not_none) > 0:\n",
    "        maxlens[key] = max(lens_not_none)\n",
    "\n",
    "# Test accessing by identifier\n",
    "maxlens['gi|142022655|gb|EQ086233.1|43']\n",
    "maxlens['gi|142022655|gb|EQ086233.1|41']\n",
    "\n",
    "# Unzip tuples\n",
    "res = list(zip(*maxlens.values()))\n",
    "maxlens = res[0]\n",
    "maxlen_pos = res[1]\n",
    "\n",
    "maxlens\n",
    "maxlen_pos\n",
    "\n",
    "max_of_all = max(maxlens)\n",
    "max_of_all_pos = maxlen_pos[maxlens.index(max_of_all)] \n",
    "max_of_all_id = identifier[maxlens.index(max_of_all)]\n",
    "\n",
    "print('Sequence with longest ORF: ', max_of_all_id)\n",
    "print('Starting position of longest ORF: ', max_of_all_pos)\n",
    "print('Nucleotide length of longest ORF: ', max_of_all)\n"
   ]
  },
  {
   "cell_type": "code",
   "execution_count": 29,
   "id": "dda132f3",
   "metadata": {},
   "outputs": [
    {
     "name": "stdout",
     "output_type": "stream",
     "text": [
      "(213, 363, 918, 594, 1608, 1686, 507, 159, 552, 1311, 639, 720, 291, 1218, 1107, 537, 477, 564, 219, 741, 678, 636, 153, 534, 639)\n"
     ]
    }
   ],
   "source": [
    "print(maxlens)"
   ]
  },
  {
   "cell_type": "code",
   "execution_count": 30,
   "id": "2873f000",
   "metadata": {},
   "outputs": [
    {
     "name": "stdout",
     "output_type": "stream",
     "text": [
      "(367, 107, 1194, 1772, 141, 2824, 825, 126, 86, 125, 216, 1347, 1427, 150, 3592, 219, 987, 410, 794, 930, 365, 606, 413, 2, 1633)\n"
     ]
    }
   ],
   "source": [
    "print(maxlen_pos)"
   ]
  },
  {
   "cell_type": "markdown",
   "id": "b08b41ab",
   "metadata": {},
   "source": [
    "### Part 3\n",
    "We will only consider repeats on the forward strand here. Also we will allow repeats to overlap themselves. For example, the sequence ACACA contains two copies of the sequence ACA - once at position 1 (index 0 in Python), and once at position 3. Given a length n, your program should be able to identify all repeats of length n in all sequences in the FASTA file. Your program should also determine how many times each repeat occurs in the file, and which is the most frequent repeat of a given length."
   ]
  },
  {
   "cell_type": "code",
   "execution_count": null,
   "id": "67c6a616",
   "metadata": {},
   "outputs": [],
   "source": [
    "def find_repeats(seq, n):\n",
    "    pass"
   ]
  },
  {
   "cell_type": "code",
   "execution_count": null,
   "id": "d232f85c",
   "metadata": {},
   "outputs": [],
   "source": []
  }
 ],
 "metadata": {
  "kernelspec": {
   "display_name": "Python 3 (ipykernel)",
   "language": "python",
   "name": "python3"
  },
  "language_info": {
   "codemirror_mode": {
    "name": "ipython",
    "version": 3
   },
   "file_extension": ".py",
   "mimetype": "text/x-python",
   "name": "python",
   "nbconvert_exporter": "python",
   "pygments_lexer": "ipython3",
   "version": "3.8.5"
  }
 },
 "nbformat": 4,
 "nbformat_minor": 5
}
